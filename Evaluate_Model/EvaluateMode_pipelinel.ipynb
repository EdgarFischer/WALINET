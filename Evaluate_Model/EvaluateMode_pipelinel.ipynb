{
 "cells": [
  {
   "cell_type": "markdown",
   "id": "72ae1563",
   "metadata": {},
   "source": [
    "# Load data, define model"
   ]
  },
  {
   "cell_type": "code",
   "execution_count": 1,
   "id": "6c345097",
   "metadata": {},
   "outputs": [],
   "source": [
    "import h5py\n",
    "import numpy as np\n",
    "import matplotlib.pyplot as plt\n",
    "import nibabel as nib\n",
    "\n",
    "#Define parameters \n",
    "\n",
    "#### Choose model ####\n",
    "\n",
    "exp = 'Vienna_5DataSets_1.1_deep' # must be available in the models folder\n",
    "\n",
    "#### Define data folder ####\n",
    "\n",
    "path_to_folder = 'Vol5_DICOM_Ice73'\n",
    "\n",
    "#### Load data and brain mask ####\n",
    "\n",
    "with h5py.File(path_to_folder+'/CombinedCSI.mat', 'r') as f:\n",
    "    grp = f['csi']            \n",
    "    data = grp['Data'][:]   \n",
    "    # this has shape 840, 35, 64, 64\n",
    "    # bring to desired shape 64 64 35 840 next:\n",
    "    data = data.transpose(3,2,1,0)\n",
    "    data_real = data['real']\n",
    "    data_imag = data['imag']\n",
    "    data_complex = data_real+ 1j*data_imag\n",
    "\n",
    "    #next fourier transform FID domain to spectral domain\n",
    "    spectra = np.fft.fftshift(np.fft.fft(data_complex, axis=-1), axes=-1)\n",
    "\n",
    "    # load brain mask:\n",
    "    brainmask = f['mask'][:]\n",
    "    brainmask = brainmask.transpose(2,1,0)\n",
    "\n",
    "#### Load lipid mask ####\n",
    "img = nib.load(path_to_folder+'/maps/mask_lipid.mnc')\n",
    "skmask = img.get_fdata()  # get image as a NumPy array\n",
    "skmask = skmask.transpose(2,1,0)\n",
    "\n",
    "headmask = brainmask + skmask "
   ]
  },
  {
   "cell_type": "markdown",
   "id": "ef8e4882",
   "metadata": {},
   "source": [
    "# Korbinian"
   ]
  },
  {
   "cell_type": "code",
   "execution_count": 1,
   "id": "7f699a1a",
   "metadata": {},
   "outputs": [],
   "source": [
    "# # load spectra\n",
    "# img = nib.load('VonKorbinian/spectra.nii.gz')\n",
    "# spectra = img.dataobj[:] \n",
    "\n",
    "# #load brainmask\n",
    "# bm = nib.load('VonKorbinian/brainmask.nii.gz')\n",
    "# brainmask = bm.dataobj[:] \n",
    "\n",
    "# # load lipid mask\n",
    "# lm = nib.load('VonKorbinian/lipid_mask.nii.gz')\n",
    "# skmask = lm.dataobj[:] \n",
    "\n",
    "# headmask = brainmask + skmask \n"
   ]
  },
  {
   "cell_type": "code",
   "execution_count": 2,
   "id": "1307873e",
   "metadata": {},
   "outputs": [],
   "source": [
    "#pip install h5py nibabel pandas glob2 regex\n",
    "import os\n",
    "import sys\n",
    "import numpy as np\n",
    "import nibabel as nib\n",
    "import h5py\n",
    "import time\n",
    "from joblib import Parallel, delayed\n",
    "from tqdm import tqdm\n",
    "from itertools import product\n",
    "import scipy\n",
    "import torch\n",
    "import torch.nn as nn\n",
    "os.environ[\"CUDA_VISIBLE_DEVICES\"]= '1' #, this way I would choose GPU 3 to do the work\n",
    "import scipy.io as sio\n",
    "\n",
    "model_dir = os.path.abspath(f'../models/{exp}')\n",
    "src_dir   = os.path.join(model_dir, 'src')\n",
    "sys.path.insert(0, model_dir)\n",
    "sys.path.insert(0, src_dir)"
   ]
  },
  {
   "cell_type": "markdown",
   "id": "22b9bc7e",
   "metadata": {},
   "source": [
    "# compute lipid projection / lipid removal operator"
   ]
  },
  {
   "cell_type": "code",
   "execution_count": null,
   "id": "227a34a2-9ca6-470b-afc4-8c13fc332c55",
   "metadata": {},
   "outputs": [
    {
     "name": "stdout",
     "output_type": "stream",
     "text": [
      "Achieved diag-mean = 0.9377 at β = 4.92e-06\n"
     ]
    }
   ],
   "source": [
    "import numpy as np\n",
    "\n",
    "# ------------------------------------------------------------------\n",
    "# 1)  Daten vorbereiten  \n",
    "T        = spectra.shape[-1]                 # 960\n",
    "Data_rf  = spectra.reshape(-1, T)            # (Nvox, 960)\n",
    "lipid_rf = Data_rf[skmask.flatten() > 0, :]  # scalp-Voxels\n",
    "\n",
    "# ------------------------------------------------------------------\n",
    "# 2)  Hilfsfunktionen\n",
    "def diag_mean(beta, M):\n",
    "    \"\"\"⟨diag⟩ von (I + β M)⁻¹  – ohne target-Abzug.\"\"\"\n",
    "    RemOP = np.linalg.inv(np.eye(M.shape[0]) + beta * M)\n",
    "    return np.mean(np.abs(np.diag(RemOP)))\n",
    "\n",
    "def find_beta_bisect(lipid_rf, target=0.938, tol=5e-3, max_iter=60): #CAUTION: Dont change the target value of 0.938, because WALINET was only trained with this value\n",
    "    \"\"\"\n",
    "    Bracketing/Bisection für β → erfüllt |diag_mean(β) - target| ≤ tol.\n",
    "    Liefert β und die bereits berechnete Matrix M.\n",
    "    \"\"\"\n",
    "    M = lipid_rf.conj().T @ lipid_rf          # (T×T), positiv definit\n",
    "\n",
    "    # ----- Bracket-Suche:  g(β_low) > target > g(β_high)\n",
    "    beta_low, beta_high = 0.0, 1e-10          # klein anfangen\n",
    "    g_high = diag_mean(beta_high, M)\n",
    "    while g_high > target:                    # solange noch zu groß\n",
    "        beta_high *= 2.0\n",
    "        g_high = diag_mean(beta_high, M)\n",
    "        if beta_high > 1e12:                  # reiner Sicherheitsstopp\n",
    "            raise RuntimeError(\"Bracket-Suche schlug fehl – target evtl. > g(0)\")\n",
    "    \n",
    "    # ----- Bisection\n",
    "    for _ in range(max_iter):\n",
    "        beta_mid = 0.5 * (beta_low + beta_high)\n",
    "        g_mid    = diag_mean(beta_mid, M)\n",
    "        if abs(g_mid - target) <= tol:\n",
    "            return beta_mid, M\n",
    "        if g_mid > target:       # noch zu groß  ⇒ β rauf\n",
    "            beta_low = beta_mid\n",
    "        else:                    # zu klein      ⇒ β runter\n",
    "            beta_high = beta_mid\n",
    "    raise RuntimeError(\"Gewünschte Toleranz nicht erreicht\")\n",
    "\n",
    "# ------------------------------------------------------------------\n",
    "# 3)  β bestimmen und Operatoren berechnen\n",
    "beta, M = find_beta_bisect(lipid_rf)          # garantiert konvergent\n",
    "RemOP   = np.linalg.inv(np.eye(T) + beta * M)\n",
    "LipidRem_Operator_ff  = RemOP\n",
    "LipidProj_Operator_ff = np.eye(T) - RemOP\n",
    "\n",
    "print(f\"Achieved diag-mean = {np.mean(np.abs(np.diag(RemOP))):.4f} at β = {beta:.2e}\")\n"
   ]
  },
  {
   "cell_type": "code",
   "execution_count": null,
   "id": "120e7a46",
   "metadata": {},
   "outputs": [],
   "source": [
    "import os\n",
    "import sys\n",
    "import time\n",
    "\n",
    "import numpy as np\n",
    "import torch\n",
    "\n",
    "eps = 1e-8  # Small epsilon to avoid division by zero\n",
    "\n",
    "def runNNLipRemoval2(device, exp, spectra, LipidProj_Operator_ff, headmask, batch_size=200):\n",
    "    \"\"\"\n",
    "    Run your trained yModel to remove lipids from `spectra`.\n",
    "\n",
    "    Args:\n",
    "        device: torch.device\n",
    "        exp:    str, name of your experiment folder under ../models/\n",
    "        spectra: np.ndarray, shape (X,Y,Z,T), complex after fft+fftshift\n",
    "        LipidProj_Operator_ff: np.ndarray, shape (T,T), lipid‐projection operator\n",
    "        headmask: np.ndarray, shape (X,Y,Z), boolean or 0/1 mask for voxels\n",
    "        batch_size: int, inference batch size\n",
    "    Returns:\n",
    "        out_vol: np.ndarray, shape (X,Y,Z,T), lipid‐removed spectra\n",
    "    \"\"\"\n",
    "    t0 = time.time()\n",
    "    X, Y, Z, T = spectra.shape\n",
    "    Nvox = X * Y * Z\n",
    "\n",
    "    # — Flatten and select mask voxels\n",
    "    S_flat    = spectra.reshape(Nvox, T)                  # (Nvox, T)\n",
    "    mask_flat = (headmask.flatten() > 0)                  # (Nvox,)\n",
    "    selected  = np.where(mask_flat)[0]                    # indices of voxels to process\n",
    "\n",
    "    lip_arr      = S_flat[selected, :]                    # (Nsel, T)\n",
    "    lipProj_arr  = lip_arr.dot(LipidProj_Operator_ff)     # (Nsel, T)\n",
    "\n",
    "    # — Convert to torch complex tensors on device\n",
    "    lip_t     = torch.tensor(lip_arr,     dtype=torch.cfloat, device=device)\n",
    "    lipProj_t = torch.tensor(lipProj_arr, dtype=torch.cfloat, device=device)\n",
    "\n",
    "    # — Filter out any rows with NaNs\n",
    "    valid_mask = (~torch.isnan(lip_t).any(dim=1) &\n",
    "                  ~torch.isnan(lipProj_t).any(dim=1))\n",
    "    lip_t     = lip_t[valid_mask]\n",
    "    lipProj_t = lipProj_t[valid_mask]\n",
    "    valid_idx = np.where(valid_mask.cpu().numpy())[0]    # indices into `selected`\n",
    "\n",
    "    # — Dynamically import your model code, just like in your original\n",
    "    for sub in os.listdir(f'../models/{exp}'):\n",
    "        if sub.startswith(\"src\"):\n",
    "            sys.path.insert(0, os.path.abspath(f'../models/{exp}'))\n",
    "            sys.path.insert(0, os.path.abspath(f'../models/{exp}/{sub}'))\n",
    "            from config    import params\n",
    "            from src.model import yModel\n",
    "            break\n",
    "\n",
    "    # — Instantiate and load your trained yModel\n",
    "    model = yModel(nLayers    = params[\"nLayers\"],\n",
    "                   nFilters   = params[\"nFilters\"],\n",
    "                   dropout    = 0,\n",
    "                   in_channels  = params[\"in_channels\"],\n",
    "                   out_channels = params[\"out_channels\"])\n",
    "    params[\"path_to_model\"] = f\"../models/{exp}/\"\n",
    "    ckpt = torch.load(params[\"path_to_model\"] + 'model_last.pt',\n",
    "                      map_location=device)\n",
    "    model.load_state_dict(ckpt)\n",
    "    model.to(device).eval()\n",
    "\n",
    "    # — Compute per-voxel energy normalization factor\n",
    "    energy = torch.sqrt(torch.sum((lip_t - lipProj_t).abs()**2, dim=1) + eps)[:, None]\n",
    "    energy = torch.clamp(energy, min=1e-3)\n",
    "\n",
    "    # — Normalize and pack real/imag into channels (Nsel, 2, T)\n",
    "    lip_norm     = lip_t     / energy\n",
    "    lipProj_norm = lipProj_t / energy\n",
    "    lip_in     = torch.stack((lip_norm.real,     lip_norm.imag),     dim=1)\n",
    "    lipProj_in = torch.stack((lipProj_norm.real, lipProj_norm.imag), dim=1)\n",
    "\n",
    "    # — Inference in batches\n",
    "    Nsel = lip_t.shape[0]\n",
    "    preds = torch.zeros((Nsel, 2, T), dtype=torch.float64, device='cpu')\n",
    "    with torch.no_grad():\n",
    "        for i in range(0, Nsel, batch_size):\n",
    "            lb = lip_in[i:i+batch_size].to(device)\n",
    "            lp = lipProj_in[i:i+batch_size].to(device)\n",
    "            out = model(lb, lp)[:, :2, :].cpu()\n",
    "            preds[i:i+batch_size] = out\n",
    "\n",
    "    # — Reconstruct complex prediction & scale back\n",
    "    pred_c = preds[:,0,:] + 1j * preds[:,1,:]   # (Nsel, T)\n",
    "    pred_c = pred_c * energy.cpu()              # broadcast (Nsel,1) × (Nsel,T)\n",
    "\n",
    "    # — Subtract predicted lipid from original\n",
    "    removed = lip_t.cpu() - pred_c              # (Nsel, T)\n",
    "\n",
    "    # — Scatter back into full volume\n",
    "    full = np.zeros((Nvox, T), dtype=np.complex128)\n",
    "    full_indices = selected[valid_idx]           # true flat indices in [0..Nvox)\n",
    "    full[full_indices, :] = removed.numpy()\n",
    "    out_vol = full.reshape(X, Y, Z, T)\n",
    "\n",
    "    print(f\"[runNNLipRemoval2] done in {time.time()-t0:.1f}s\")\n",
    "    return out_vol\n",
    "\n",
    "\n"
   ]
  },
  {
   "cell_type": "code",
   "execution_count": 6,
   "id": "e67d8907-d4c4-4ba0-a0f5-770c51a4f7d8",
   "metadata": {},
   "outputs": [
    {
     "name": "stdout",
     "output_type": "stream",
     "text": [
      "[runNNLipRemoval2] done in 8.4s\n"
     ]
    }
   ],
   "source": [
    "# ——————————— Example usage ———————————\n",
    "if __name__ == \"__main__\":\n",
    "    # 1) Prepare device & experiment name\n",
    "    device = torch.device(\"cuda:0\" if torch.cuda.is_available() else \"cpu\")\n",
    "\n",
    "    # 4) Run lipid removal\n",
    "    Data_LipidRemoved_rrrf = runNNLipRemoval2(\n",
    "        device,\n",
    "        exp,\n",
    "        spectra,\n",
    "        LipidProj_Operator_ff,\n",
    "        headmask,\n",
    "        batch_size=200\n",
    "    )\n"
   ]
  },
  {
   "cell_type": "code",
   "execution_count": 8,
   "id": "360f4e83",
   "metadata": {},
   "outputs": [],
   "source": [
    "Nuisance_Free_FID_Data = np.fft.ifft(np.fft.ifftshift(Data_LipidRemoved_rrrf, axes=-1), axis=-1) # go back to FID domain"
   ]
  },
  {
   "cell_type": "code",
   "execution_count": 13,
   "id": "8bdf4a85",
   "metadata": {},
   "outputs": [
    {
     "data": {
      "text/plain": [
       "<matplotlib.image.AxesImage at 0x7f682b3f2620>"
      ]
     },
     "execution_count": 13,
     "metadata": {},
     "output_type": "execute_result"
    },
    {
     "data": {
      "image/png": "[encoded data removed]",
      "text/plain": [
       "<Figure size 640x480 with 1 Axes>"
      ]
     },
     "metadata": {},
     "output_type": "display_data"
    }
   ],
   "source": [
    "z, t = 20, 4\n",
    "\n",
    "Slice = np.abs(Nuisance_Free_FID_Data)[:,:,z,t]\n",
    "plt.imshow(Slice)"
   ]
  }
 ],
 "metadata": {
  "kernelspec": {
   "display_name": "Python 3",
   "language": "python",
   "name": "python3"
  },
  "language_info": {
   "codemirror_mode": {
    "name": "ipython",
    "version": 3
   },
   "file_extension": ".py",
   "mimetype": "text/x-python",
   "name": "python",
   "nbconvert_exporter": "python",
   "pygments_lexer": "ipython3",
   "version": "3.10.17"
  }
 },
 "nbformat": 4,
 "nbformat_minor": 5
}
