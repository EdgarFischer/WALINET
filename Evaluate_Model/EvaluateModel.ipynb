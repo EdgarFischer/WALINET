{
 "cells": [
  {
   "cell_type": "markdown",
   "id": "72ae1563",
   "metadata": {},
   "source": [
    "# Load data, define model"
   ]
  },
  {
   "cell_type": "code",
   "execution_count": 1,
   "id": "1cf9ce69",
   "metadata": {},
   "outputs": [],
   "source": [
    "import h5py\n",
    "import numpy as np\n",
    "import matplotlib.pyplot as plt\n",
    "import nibabel as nib"
   ]
  },
  {
   "cell_type": "code",
   "execution_count": 2,
   "id": "6c345097",
   "metadata": {},
   "outputs": [],
   "source": [
    "#Define parameters \n",
    "\n",
    "#### Choose model ####\n",
    "\n",
    "exp = 'Vienna_5DataSets_1.1_deep' # must be available in the models folder\n",
    "\n",
    "#### Define data folder ####\n",
    "\n",
    "path_to_folder = 'Vol5_DICOM_Ice73'\n",
    "\n",
    "#### Load data and brain mask ####\n",
    "\n",
    "with h5py.File(path_to_folder+'/CombinedCSI.mat', 'r') as f:\n",
    "    grp = f['csi']            \n",
    "    data = grp['Data'][:]   \n",
    "    # this has shape 840, 35, 64, 64\n",
    "    # bring to desired shape 64 64 35 840 next:\n",
    "    data = data.transpose(3,2,1,0)\n",
    "    data_real = data['real']\n",
    "    data_imag = data['imag']\n",
    "    data_complex = data_real+ 1j*data_imag\n",
    "\n",
    "    #next fourier transform FID domain to spectral domain\n",
    "    spectra = np.fft.fftshift(np.fft.fft(data_complex, axis=-1), axes=-1)\n",
    "\n",
    "    # load brain mask:\n",
    "    brainmask = f['mask'][:]\n",
    "    brainmask = brainmask.transpose(2,1,0)\n",
    "\n",
    "#### Load lipid mask ####\n",
    "img = nib.load(path_to_folder+'/maps/mask_lipid.mnc')\n",
    "skmask = img.get_fdata()  # get image as a NumPy array\n",
    "skmask = skmask.transpose(2,1,0)\n",
    "\n",
    "headmask = brainmask + skmask "
   ]
  },
  {
   "cell_type": "code",
   "execution_count": 3,
   "id": "1307873e",
   "metadata": {},
   "outputs": [],
   "source": [
    "import os\n",
    "import sys\n",
    "\n",
    "model_dir = os.path.abspath(f'../models/{exp}')\n",
    "src_dir   = os.path.abspath(f'../src')\n",
    "\n",
    "sys.path.insert(0, model_dir)\n",
    "sys.path.insert(0, src_dir)\n",
    "#pip install h5py nibabel pandas glob2 regex\n",
    "\n",
    "import numpy as np\n",
    "import nibabel as nib\n",
    "import h5py\n",
    "import time\n",
    "from joblib import Parallel, delayed\n",
    "from tqdm import tqdm\n",
    "from itertools import product\n",
    "import scipy\n",
    "import torch\n",
    "import torch.nn as nn\n",
    "os.environ[\"CUDA_VISIBLE_DEVICES\"]= '1' #, this way I would choose GPU 3 to do the work\n",
    "import scipy.io as sio\n",
    "from lipidRemoval import *"
   ]
  },
  {
   "cell_type": "markdown",
   "id": "22b9bc7e",
   "metadata": {},
   "source": [
    "# compute lipid projection / lipid removal operator"
   ]
  },
  {
   "cell_type": "code",
   "execution_count": 4,
   "id": "227a34a2-9ca6-470b-afc4-8c13fc332c55",
   "metadata": {},
   "outputs": [
    {
     "name": "stdout",
     "output_type": "stream",
     "text": [
      "Achieved diag-mean = 0.9377 at β = 4.92e-06\n"
     ]
    }
   ],
   "source": [
    "import numpy as np\n",
    "\n",
    "# ------------------------------------------------------------------\n",
    "# 1)  Daten vorbereiten  \n",
    "T        = spectra.shape[-1]                 # 960\n",
    "Data_rf  = spectra.reshape(-1, T)            # (Nvox, 960)\n",
    "lipid_rf = Data_rf[skmask.flatten() > 0, :]  # scalp-Voxels\n",
    "\n",
    "#2)  β bestimmen und Operatoren berechnen\n",
    "beta, M = find_beta_bisect(lipid_rf)          # garantiert konvergent\n",
    "RemOP   = np.linalg.inv(np.eye(T) + beta * M)\n",
    "LipidRem_Operator_ff  = RemOP\n",
    "LipidProj_Operator_ff = np.eye(T) - RemOP\n",
    "\n",
    "print(f\"Achieved diag-mean = {np.mean(np.abs(np.diag(RemOP))):.4f} at β = {beta:.2e}\")\n"
   ]
  },
  {
   "cell_type": "code",
   "execution_count": 5,
   "id": "e67d8907-d4c4-4ba0-a0f5-770c51a4f7d8",
   "metadata": {},
   "outputs": [
    {
     "name": "stdout",
     "output_type": "stream",
     "text": [
      "[runNNLipRemoval2] done in 8.5s\n"
     ]
    }
   ],
   "source": [
    "# ——————————— Example usage ———————————\n",
    "if __name__ == \"__main__\":\n",
    "    # 1) Prepare device & experiment name\n",
    "    device = torch.device(\"cuda:0\" if torch.cuda.is_available() else \"cpu\")\n",
    "\n",
    "    # 4) Run lipid removal\n",
    "    Data_LipidRemoved_rrrf = runNNLipRemoval2(\n",
    "        device,\n",
    "        exp,\n",
    "        spectra,\n",
    "        LipidProj_Operator_ff,\n",
    "        headmask,\n",
    "        batch_size=200\n",
    "    )\n"
   ]
  },
  {
   "cell_type": "code",
   "execution_count": 6,
   "id": "360f4e83",
   "metadata": {},
   "outputs": [],
   "source": [
    "Nuisance_Free_FID_Data = np.fft.ifft(np.fft.ifftshift(Data_LipidRemoved_rrrf, axes=-1), axis=-1) # go back to FID domain"
   ]
  },
  {
   "cell_type": "code",
   "execution_count": 7,
   "id": "afb0f80d",
   "metadata": {},
   "outputs": [
    {
     "data": {
      "text/plain": [
       "<matplotlib.image.AxesImage at 0x7fbbe8130e50>"
      ]
     },
     "execution_count": 7,
     "metadata": {},
     "output_type": "execute_result"
    },
    {
     "data": {
      "image/png": "[encoded data removed]",
      "text/plain": [
       "<Figure size 640x480 with 1 Axes>"
      ]
     },
     "metadata": {},
     "output_type": "display_data"
    }
   ],
   "source": [
    "z, t = 20, 4\n",
    "\n",
    "Slice = np.abs(Nuisance_Free_FID_Data)[:,:,z,t]\n",
    "plt.imshow(Slice)"
   ]
  }
 ],
 "metadata": {
  "kernelspec": {
   "display_name": "Python 3",
   "language": "python",
   "name": "python3"
  },
  "language_info": {
   "codemirror_mode": {
    "name": "ipython",
    "version": 3
   },
   "file_extension": ".py",
   "mimetype": "text/x-python",
   "name": "python",
   "nbconvert_exporter": "python",
   "pygments_lexer": "ipython3",
   "version": "3.10.17"
  }
 },
 "nbformat": 4,
 "nbformat_minor": 5
}
