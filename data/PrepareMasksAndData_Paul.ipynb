{
 "cells": [
  {
   "cell_type": "markdown",
   "id": "a988357e",
   "metadata": {},
   "source": [
    "The purpose of this file is to bring the CombinedCSI.mat files and the masks into .npy format for further processing and save them."
   ]
  },
  {
   "cell_type": "code",
   "execution_count": 1,
   "id": "e0331826",
   "metadata": {},
   "outputs": [],
   "source": [
    "Vol = '4_Paul'\n",
    "\n",
    "import sys\n",
    "import os\n",
    "\n",
    "sys.path.append('../scripts')\n",
    "sys.path.append('../models')\n",
    "\n",
    "os.environ[\"CUDA_VISIBLE_DEVICES\"]= '2' #, this way I would choose GPU 3 to do the work\n",
    "\n",
    "from scipy.io import loadmat\n",
    "import numpy as np\n",
    "import matplotlib.pyplot as plt\n",
    "import torch\n",
    "import numpy as np\n",
    "import time\n",
    "import h5py\n",
    "import matplotlib.pyplot as plt\n",
    "from scipy.ndimage import zoom # for compressing images / only for testing purposes to speed up NN training\n",
    "from scipy.fft import fft2, fftshift\n",
    "from scipy.io import loadmat\n",
    "from torch.utils.data import DataLoader, Subset\n",
    "import torch.optim as optim\n",
    "import torch.nn as nn\n",
    "from scipy.io import savemat\n",
    "import nibabel as nib\n",
    "import h5py\n",
    "\n",
    "import plotly.graph_objects as go"
   ]
  },
  {
   "cell_type": "code",
   "execution_count": 9,
   "id": "efee9f6e",
   "metadata": {},
   "outputs": [
    {
     "name": "stdout",
     "output_type": "stream",
     "text": [
      "['#refs#', 'IsWatRef', 'NoiseCorrMat_post', 'NoiseScalingMatrix_spectral', 'NoiseScalingMatrix_time', 'Par', 'ReadInInfo', 'csi', 'mask', 'weights']\n",
      "['#refs#', 'IsWatRef', 'Par', 'mask']\n"
     ]
    }
   ],
   "source": [
    "\n",
    "# Load directly as complex from the HDF5 file\n",
    "\n",
    "with h5py.File(f'Vol{Vol}/OriginalData/CombinedCSI.mat', 'r') as f:\n",
    "    print(list(f.keys()))  # List top-level variables\n",
    "    mask = f['mask'][:]\n",
    "\n",
    "with h5py.File(f'Vol{Vol}/OriginalData/MASKCSI.mat', 'r') as f:\n",
    "    print(list(f.keys()))  # List top-level variables\n",
    "    mask_2 = f['mask'][:]\n"
   ]
  },
  {
   "cell_type": "code",
   "execution_count": 10,
   "id": "3ae39a1f",
   "metadata": {},
   "outputs": [
    {
     "data": {
      "text/plain": [
       "(39, 64, 64)"
      ]
     },
     "execution_count": 10,
     "metadata": {},
     "output_type": "execute_result"
    }
   ],
   "source": [
    "mask_2.shape"
   ]
  },
  {
   "cell_type": "code",
   "execution_count": 13,
   "id": "7148c5d9",
   "metadata": {},
   "outputs": [
    {
     "data": {
      "text/plain": [
       "<matplotlib.image.AxesImage at 0x7f002c187f40>"
      ]
     },
     "execution_count": 13,
     "metadata": {},
     "output_type": "execute_result"
    },
    {
     "data": {
      "image/png": "[encoded data removed]",
      "text/plain": [
       "<Figure size 640x480 with 1 Axes>"
      ]
     },
     "metadata": {},
     "output_type": "display_data"
    }
   ],
   "source": [
    "z = 20\n",
    "\n",
    "Slice = mask[z, :,:]\n",
    "\n",
    "plt.imshow(Slice)"
   ]
  },
  {
   "cell_type": "code",
   "execution_count": 8,
   "id": "b762f3da",
   "metadata": {},
   "outputs": [
    {
     "data": {
      "text/plain": [
       "(39, 64, 64)"
      ]
     },
     "execution_count": 8,
     "metadata": {},
     "output_type": "execute_result"
    }
   ],
   "source": [
    "mask.shape"
   ]
  },
  {
   "cell_type": "code",
   "execution_count": 11,
   "id": "e929b5d9",
   "metadata": {},
   "outputs": [
    {
     "ename": "NameError",
     "evalue": "name 'lipid_mask' is not defined",
     "output_type": "error",
     "traceback": [
      "\u001b[0;31m---------------------------------------------------------------------------\u001b[0m",
      "\u001b[0;31mNameError\u001b[0m                                 Traceback (most recent call last)",
      "Cell \u001b[0;32mIn[11], line 5\u001b[0m\n\u001b[1;32m      1\u001b[0m \u001b[38;5;28;01mimport\u001b[39;00m\u001b[38;5;250m \u001b[39m\u001b[38;5;21;01mmatplotlib\u001b[39;00m\u001b[38;5;21;01m.\u001b[39;00m\u001b[38;5;21;01mpyplot\u001b[39;00m\u001b[38;5;250m \u001b[39m\u001b[38;5;28;01mas\u001b[39;00m\u001b[38;5;250m \u001b[39m\u001b[38;5;21;01mplt\u001b[39;00m\n\u001b[1;32m      3\u001b[0m z, t \u001b[38;5;241m=\u001b[39m \u001b[38;5;241m15\u001b[39m, \u001b[38;5;241m4\u001b[39m\n\u001b[0;32m----> 5\u001b[0m Lipid_Mask \u001b[38;5;241m=\u001b[39m \u001b[43mlipid_mask\u001b[49m[:, :, z]\n\u001b[1;32m      6\u001b[0m Brain_Mask \u001b[38;5;241m=\u001b[39m mask_tr[:, :, z]\n\u001b[1;32m      7\u001b[0m DATA \u001b[38;5;241m=\u001b[39m np\u001b[38;5;241m.\u001b[39mabs(data_tr[:, :, z, t])\n",
      "\u001b[0;31mNameError\u001b[0m: name 'lipid_mask' is not defined"
     ]
    }
   ],
   "source": [
    "import matplotlib.pyplot as plt\n",
    "\n",
    "z, t = 15, 4\n",
    "\n",
    "Lipid_Mask = lipid_mask[:, :, z]\n",
    "Brain_Mask = mask_tr[:, :, z]\n",
    "DATA = np.abs(data_tr[:, :, z, t])\n",
    "\n",
    "plt.figure(figsize=(12, 4))\n",
    "\n",
    "plt.subplot(1, 3, 1)\n",
    "plt.imshow(Lipid_Mask, cmap='plasma')\n",
    "plt.title('Lipid Mask')\n",
    "plt.axis('off')\n",
    "\n",
    "plt.subplot(1, 3, 2)\n",
    "plt.imshow(Brain_Mask, cmap='plasma')\n",
    "plt.title('Brain Mask')\n",
    "plt.axis('off')\n",
    "\n",
    "plt.subplot(1, 3, 3)\n",
    "plt.imshow(DATA, cmap='plasma')\n",
    "plt.title('Data (abs)')\n",
    "plt.axis('off')\n",
    "\n",
    "plt.tight_layout()\n",
    "plt.show()\n"
   ]
  }
 ],
 "metadata": {
  "kernelspec": {
   "display_name": "Python 3",
   "language": "python",
   "name": "python3"
  },
  "language_info": {
   "codemirror_mode": {
    "name": "ipython",
    "version": 3
   },
   "file_extension": ".py",
   "mimetype": "text/x-python",
   "name": "python",
   "nbconvert_exporter": "python",
   "pygments_lexer": "ipython3",
   "version": "3.10.17"
  }
 },
 "nbformat": 4,
 "nbformat_minor": 5
}
