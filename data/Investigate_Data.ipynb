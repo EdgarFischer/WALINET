{
 "cells": [
  {
   "cell_type": "markdown",
   "id": "a988357e",
   "metadata": {},
   "source": [
    "In this file I start by implementing a compressed sensing reconstruction approach. I want to have a well accepted classical method \n",
    "as a baseline for my later deep learning models."
   ]
  },
  {
   "cell_type": "code",
   "execution_count": 1,
   "id": "e0331826",
   "metadata": {},
   "outputs": [],
   "source": [
    "import sys\n",
    "import os\n",
    "\n",
    "sys.path.append('../scripts')\n",
    "sys.path.append('../models')\n",
    "\n",
    "os.environ[\"CUDA_VISIBLE_DEVICES\"]= '1' #, this way I would choose GPU 3 to do the work\n",
    "\n",
    "from scipy.io import loadmat\n",
    "import numpy as np\n",
    "import matplotlib.pyplot as plt\n",
    "import torch\n",
    "import numpy as np\n",
    "import time\n",
    "import h5py\n",
    "import matplotlib.pyplot as plt\n",
    "from scipy.ndimage import zoom # for compressing images / only for testing purposes to speed up NN training\n",
    "from scipy.fft import fft2, fftshift\n",
    "from scipy.io import loadmat\n",
    "from torch.utils.data import DataLoader, Subset\n",
    "import torch.optim as optim\n",
    "import torch.nn as nn\n",
    "from scipy.io import savemat\n",
    "import nibabel as nib\n",
    "import h5py\n",
    "\n",
    "import plotly.graph_objects as go"
   ]
  },
  {
   "cell_type": "markdown",
   "id": "c4dcb49e",
   "metadata": {},
   "source": [
    "# Check Masks for nans and infs"
   ]
  },
  {
   "cell_type": "code",
   "execution_count": 9,
   "id": "db7a6bd2",
   "metadata": {},
   "outputs": [
    {
     "name": "stdout",
     "output_type": "stream",
     "text": [
      "Volume\n",
      "5\n",
      "Brainmask:\n",
      "Contains NaN or Inf? False\n",
      "LipidMask:\n",
      "Contains NaN or Inf? False\n",
      "Volume\n",
      "6\n",
      "Brainmask:\n",
      "Contains NaN or Inf? False\n",
      "LipidMask:\n",
      "Contains NaN or Inf? False\n",
      "Volume\n",
      "7\n",
      "Brainmask:\n",
      "Contains NaN or Inf? False\n",
      "LipidMask:\n",
      "Contains NaN or Inf? False\n",
      "Volume\n",
      "8\n",
      "Brainmask:\n",
      "Contains NaN or Inf? False\n",
      "LipidMask:\n",
      "Contains NaN or Inf? False\n",
      "Volume\n",
      "9\n",
      "Brainmask:\n",
      "Contains NaN or Inf? False\n",
      "LipidMask:\n",
      "Contains NaN or Inf? False\n"
     ]
    }
   ],
   "source": [
    "for Vol in range(5,10):\n",
    "    brain_mask = np.load(f'Vol{Vol}/masks/brain_mask.npy')\n",
    "    lipid_mask = np.load(f'Vol{Vol}/masks/lipid_mask.npy')\n",
    "\n",
    "    print('Volume')\n",
    "    print(Vol)\n",
    "    print('Brainmask:')\n",
    "    has_nonfinite = ~np.isfinite(brain_mask).all()\n",
    "    print(\"Contains NaN or Inf?\", has_nonfinite)  # True\n",
    "\n",
    "    print('LipidMask:')\n",
    "    has_nonfinite = ~np.isfinite(lipid_mask).all()\n",
    "    print(\"Contains NaN or Inf?\", has_nonfinite)  # True"
   ]
  },
  {
   "cell_type": "markdown",
   "id": "0f1ffda7",
   "metadata": {},
   "source": [
    "# check original data for nans and infs"
   ]
  },
  {
   "cell_type": "code",
   "execution_count": 10,
   "id": "5435b84e",
   "metadata": {},
   "outputs": [
    {
     "name": "stdout",
     "output_type": "stream",
     "text": [
      "Volume\n",
      "5\n",
      "data:\n",
      "Contains NaN or Inf? False\n",
      "IsolatedWater:\n",
      "Contains NaN or Inf? False\n",
      "SupressedWater:\n",
      "Contains NaN or Inf? False\n",
      "Volume\n",
      "6\n",
      "data:\n",
      "Contains NaN or Inf? False\n",
      "IsolatedWater:\n",
      "Contains NaN or Inf? False\n",
      "SupressedWater:\n",
      "Contains NaN or Inf? False\n",
      "Volume\n",
      "7\n",
      "data:\n",
      "Contains NaN or Inf? False\n",
      "IsolatedWater:\n",
      "Contains NaN or Inf? False\n",
      "SupressedWater:\n",
      "Contains NaN or Inf? False\n",
      "Volume\n",
      "8\n",
      "data:\n",
      "Contains NaN or Inf? False\n",
      "IsolatedWater:\n",
      "Contains NaN or Inf? False\n",
      "SupressedWater:\n",
      "Contains NaN or Inf? False\n",
      "Volume\n",
      "9\n",
      "data:\n",
      "Contains NaN or Inf? False\n",
      "IsolatedWater:\n",
      "Contains NaN or Inf? False\n",
      "SupressedWater:\n",
      "Contains NaN or Inf? False\n"
     ]
    }
   ],
   "source": [
    "for Vol in range(5,10):\n",
    "\n",
    "    data = np.load(f'Vol{Vol}/OriginalData/data.npy')\n",
    "    IsolatedWater = np.load(f'Vol{Vol}/OriginalData/IsolatedWater.npy')\n",
    "    SupressedWater = np.load(f'Vol{Vol}/OriginalData/SupressedWater.npy')\n",
    "\n",
    "    print('Volume')\n",
    "    print(Vol)\n",
    "    print('data:')\n",
    "    has_nonfinite = ~np.isfinite(data).all()\n",
    "    print(\"Contains NaN or Inf?\", has_nonfinite)  # True\n",
    "\n",
    "    print('IsolatedWater:')\n",
    "    has_nonfinite = ~np.isfinite(IsolatedWater).all()\n",
    "    print(\"Contains NaN or Inf?\", has_nonfinite)  # True\n",
    "\n",
    "    print('SupressedWater:')\n",
    "    has_nonfinite = ~np.isfinite(SupressedWater).all()\n",
    "    print(\"Contains NaN or Inf?\", has_nonfinite)  # True"
   ]
  },
  {
   "cell_type": "markdown",
   "id": "8cc1a54e",
   "metadata": {},
   "source": [
    "# Check Simulations for nans and infs"
   ]
  },
  {
   "cell_type": "code",
   "execution_count": 3,
   "id": "f212d52d",
   "metadata": {},
   "outputs": [
    {
     "name": "stdout",
     "output_type": "stream",
     "text": [
      "Vol 5\n",
      "Keys: ['lipid', 'lipid_proj', 'lipid_projOP', 'metab', 'spectra', 'water']\n",
      "Contains NaN or Inf? False\n",
      "Contains NaN or Inf? False\n",
      "Contains NaN or Inf? False\n",
      "Contains NaN or Inf? False\n",
      "Contains NaN or Inf? False\n",
      "Contains NaN or Inf? False\n",
      "Vol 6\n",
      "Keys: ['lipid', 'lipid_proj', 'lipid_projOP', 'metab', 'spectra', 'water']\n",
      "Contains NaN or Inf? False\n",
      "Contains NaN or Inf? False\n",
      "Contains NaN or Inf? False\n",
      "Contains NaN or Inf? False\n",
      "Contains NaN or Inf? False\n",
      "Contains NaN or Inf? False\n",
      "Vol 7\n",
      "Keys: ['lipid', 'lipid_proj', 'lipid_projOP', 'metab', 'spectra', 'water']\n",
      "Contains NaN or Inf? False\n",
      "Contains NaN or Inf? False\n",
      "Contains NaN or Inf? False\n",
      "Contains NaN or Inf? False\n",
      "Contains NaN or Inf? False\n",
      "Contains NaN or Inf? False\n",
      "Vol 8\n",
      "Keys: ['lipid', 'lipid_proj', 'lipid_projOP', 'metab', 'spectra', 'water']\n",
      "Contains NaN or Inf? False\n",
      "Contains NaN or Inf? False\n",
      "Contains NaN or Inf? False\n",
      "Contains NaN or Inf? False\n",
      "Contains NaN or Inf? False\n",
      "Contains NaN or Inf? False\n",
      "Vol 9\n",
      "Keys: ['lipid', 'lipid_proj', 'lipid_projOP', 'metab', 'spectra', 'water']\n",
      "Contains NaN or Inf? False\n",
      "Contains NaN or Inf? False\n",
      "Contains NaN or Inf? False\n",
      "Contains NaN or Inf? False\n",
      "Contains NaN or Inf? False\n",
      "Contains NaN or Inf? False\n"
     ]
    }
   ],
   "source": [
    "for Vol in range(5,10):\n",
    "    with h5py.File(f'Vol{Vol}/TrainData/TrainData_v_1.0.h5', 'r') as f:\n",
    "        # List all top-level groups/datasets\n",
    "        print('Vol', Vol)\n",
    "        print(\"Keys:\", list(f.keys()))\n",
    "        lipid = f['lipid'][:]\n",
    "\n",
    "        has_nonfinite = ~np.isfinite(lipid).all()\n",
    "        print(\"Contains NaN or Inf?\", has_nonfinite)  # True\n",
    "\n",
    "        lipid_proj = f['lipid_proj'][:]\n",
    "\n",
    "        has_nonfinite = ~np.isfinite(lipid_proj).all()\n",
    "        print(\"Contains NaN or Inf?\", has_nonfinite)  # True\n",
    "        \n",
    "        lipid_projOP = f['lipid_projOP'][:]\n",
    "\n",
    "        has_nonfinite = ~np.isfinite(lipid_projOP).all()\n",
    "        print(\"Contains NaN or Inf?\", has_nonfinite)  # True\n",
    "\n",
    "        metab = f['metab'][:]\n",
    "\n",
    "        has_nonfinite = ~np.isfinite(metab).all()\n",
    "        print(\"Contains NaN or Inf?\", has_nonfinite)  # True\n",
    "\n",
    "        spectra = f['spectra'][:]\n",
    "        has_nonfinite = ~np.isfinite(spectra).all()\n",
    "        print(\"Contains NaN or Inf?\", has_nonfinite)  # True\n",
    "\n",
    "        water = f['water'][:]\n",
    "        has_nonfinite = ~np.isfinite(water).all()\n",
    "        print(\"Contains NaN or Inf?\", has_nonfinite)  # True\n"
   ]
  },
  {
   "cell_type": "markdown",
   "id": "9212af1b",
   "metadata": {},
   "source": [
    "# Data set 9"
   ]
  },
  {
   "cell_type": "code",
   "execution_count": 15,
   "id": "9158249c",
   "metadata": {},
   "outputs": [],
   "source": [
    "Vol = 5\n",
    "\n",
    "brain_mask = np.load(f'Vol{Vol}/masks/brain_mask.npy')\n",
    "lipid_mask = np.load(f'Vol{Vol}/masks/lipid_mask.npy')\n",
    "\n",
    "data = np.load(f'Vol{Vol}/OriginalData/data.npy')\n",
    "IsolatedWater = np.load(f'Vol{Vol}/OriginalData/IsolatedWater.npy')\n",
    "SupressedWater = np.load(f'Vol{Vol}/OriginalData/SupressedWater.npy')"
   ]
  },
  {
   "cell_type": "code",
   "execution_count": 17,
   "id": "e2cfd295",
   "metadata": {},
   "outputs": [
    {
     "name": "stdout",
     "output_type": "stream",
     "text": [
      "Vol 9\n",
      "Keys: ['lipid', 'lipid_proj', 'lipid_projOP', 'metab', 'spectra', 'water']\n",
      "Contains NaN or Inf? False\n",
      "Contains NaN or Inf? False\n",
      "Contains NaN or Inf? False\n",
      "Contains NaN or Inf? False\n",
      "Contains NaN or Inf? False\n",
      "Contains NaN or Inf? False\n"
     ]
    }
   ],
   "source": [
    "Vol = 9\n",
    "with h5py.File(f'Vol{Vol}/TrainData/TrainData_v_1.0.h5', 'r') as f:\n",
    "    # List all top-level groups/datasets\n",
    "    print('Vol', Vol)\n",
    "    print(\"Keys:\", list(f.keys()))\n",
    "    lipid = f['lipid'][:]\n",
    "\n",
    "    has_nonfinite = ~np.isfinite(lipid).all()\n",
    "    print(\"Contains NaN or Inf?\", has_nonfinite)  # True\n",
    "\n",
    "    lipid_proj = f['lipid_proj'][:]\n",
    "\n",
    "    has_nonfinite = ~np.isfinite(lipid_proj).all()\n",
    "    print(\"Contains NaN or Inf?\", has_nonfinite)  # True\n",
    "    \n",
    "    lipid_projOP = f['lipid_projOP'][:]\n",
    "\n",
    "    has_nonfinite = ~np.isfinite(lipid_projOP).all()\n",
    "    print(\"Contains NaN or Inf?\", has_nonfinite)  # True\n",
    "\n",
    "    metab = f['metab'][:]\n",
    "\n",
    "    has_nonfinite = ~np.isfinite(metab).all()\n",
    "    print(\"Contains NaN or Inf?\", has_nonfinite)  # True\n",
    "\n",
    "    spectra = f['spectra'][:]\n",
    "    has_nonfinite = ~np.isfinite(spectra).all()\n",
    "    print(\"Contains NaN or Inf?\", has_nonfinite)  # True\n",
    "\n",
    "    water = f['water'][:]\n",
    "    has_nonfinite = ~np.isfinite(water).all()\n",
    "    print(\"Contains NaN or Inf?\", has_nonfinite)  # True"
   ]
  },
  {
   "cell_type": "markdown",
   "id": "6fd8a485",
   "metadata": {},
   "source": [
    "# Compute average projection operator"
   ]
  },
  {
   "cell_type": "code",
   "execution_count": 4,
   "id": "077a547e",
   "metadata": {},
   "outputs": [
    {
     "name": "stdout",
     "output_type": "stream",
     "text": [
      "Shape lipid_projOP_avg: (840, 840)\n"
     ]
    }
   ],
   "source": [
    "import h5py\n",
    "import numpy as np\n",
    "\n",
    "version = 'v_1.0'\n",
    "subjects = [6, 7, 8, 9]  # die Vol-Nummern\n",
    "\n",
    "operators = []\n",
    "for sub in subjects:\n",
    "    file_path = f'Vol{sub}/TrainData/TrainData_{version}.h5'\n",
    "    with h5py.File(file_path, 'r') as f:\n",
    "        operators.append(f['lipid_projOP'][:])\n",
    "\n",
    "# Stacken und Mittelwert über das 0. Axis nehmen\n",
    "lipid_projOP_avg = np.mean(np.stack(operators, axis=0), axis=0)\n",
    "\n",
    "print(\"Shape lipid_projOP_avg:\", lipid_projOP_avg.shape)"
   ]
  },
  {
   "cell_type": "markdown",
   "id": "62f7dbd3",
   "metadata": {},
   "source": [
    "Now saved data sets based on average operator above"
   ]
  },
  {
   "cell_type": "code",
   "execution_count": 5,
   "id": "368d2c87",
   "metadata": {},
   "outputs": [
    {
     "name": "stdout",
     "output_type": "stream",
     "text": [
      "Neue Datei geschrieben: Vol5/TrainData/TrainData_v_1.0_averaged.h5\n",
      "Neue Datei geschrieben: Vol6/TrainData/TrainData_v_1.0_averaged.h5\n",
      "Neue Datei geschrieben: Vol7/TrainData/TrainData_v_1.0_averaged.h5\n",
      "Neue Datei geschrieben: Vol8/TrainData/TrainData_v_1.0_averaged.h5\n",
      "Neue Datei geschrieben: Vol9/TrainData/TrainData_v_1.0_averaged.h5\n"
     ]
    }
   ],
   "source": [
    "for Vol in range(5,10):\n",
    "\n",
    "    version = 'v_1.0'\n",
    "    in_path  = f'Vol{Vol}/TrainData/TrainData_{version}.h5'\n",
    "    out_path = f'Vol{Vol}/TrainData/TrainData_{version}_averaged.h5'\n",
    "\n",
    "    # --- Angenommen: lipid_projOP_avg ist schon berechnet ---\n",
    "    # z.B. aus subjects = [6,7,8,9] und\n",
    "    # lipid_projOP_avg = np.mean(np.stack(operators, axis=0), axis=0)\n",
    "\n",
    "    # 1) Alte Daten laden\n",
    "    with h5py.File(in_path, 'r') as f:\n",
    "        metab   = f['metab'][:]\n",
    "        water   = f['water'][:]\n",
    "        spectra = f['spectra'][:]\n",
    "        lipid   = f['lipid'][:]\n",
    "\n",
    "    # 2) Neuen Lipid-Projektionsanteil berechnen\n",
    "    lipid_proj_new = np.matmul(spectra, lipid_projOP_avg)\n",
    "\n",
    "    # 3) Alles in neue Datei schreiben\n",
    "    with h5py.File(out_path, 'w') as hf:\n",
    "        hf.create_dataset('metab',       data=metab)\n",
    "        hf.create_dataset('water',       data=water)\n",
    "        hf.create_dataset('spectra',     data=spectra)\n",
    "        hf.create_dataset('lipid',       data=lipid)\n",
    "        hf.create_dataset('lipid_proj',  data=lipid_proj_new)\n",
    "        hf.create_dataset('lipid_projOP',data=lipid_projOP_avg)\n",
    "\n",
    "    print(f'Neue Datei geschrieben: {out_path}')"
   ]
  }
 ],
 "metadata": {
  "kernelspec": {
   "display_name": "Python 3",
   "language": "python",
   "name": "python3"
  },
  "language_info": {
   "codemirror_mode": {
    "name": "ipython",
    "version": 3
   },
   "file_extension": ".py",
   "mimetype": "text/x-python",
   "name": "python",
   "nbconvert_exporter": "python",
   "pygments_lexer": "ipython3",
   "version": "3.10.17"
  }
 },
 "nbformat": 4,
 "nbformat_minor": 5
}
