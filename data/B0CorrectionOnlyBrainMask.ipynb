{
 "cells": [
  {
   "cell_type": "markdown",
   "id": "a988357e",
   "metadata": {},
   "source": [
    "In this file I start by implementing a compressed sensing reconstruction approach. I want to have a well accepted classical method \n",
    "as a baseline for my later deep learning models."
   ]
  },
  {
   "cell_type": "code",
   "execution_count": null,
   "id": "e0331826",
   "metadata": {},
   "outputs": [],
   "source": [
    "import sys\n",
    "from pathlib import Path\n",
    "import shutil\n",
    "import numpy as np"
   ]
  },
  {
   "cell_type": "code",
   "execution_count": 2,
   "id": "88e07246",
   "metadata": {},
   "outputs": [
    {
     "name": "stdout",
     "output_type": "stream",
     "text": [
      "OK: Vol1_London -> Vol1_London_B0corrected_wo_LipidMask\n",
      "OK: Vol2_London -> Vol2_London_B0corrected_wo_LipidMask\n",
      "OK: Vol3_London -> Vol3_London_B0corrected_wo_LipidMask\n",
      "OK: Vol4_London -> Vol4_London_B0corrected_wo_LipidMask\n",
      "OK: Vol5_London -> Vol5_London_B0corrected_wo_LipidMask\n",
      "OK: Vol5 -> Vol5_B0corrected_wo_LipidMask\n",
      "OK: Vol6 -> Vol6_B0corrected_wo_LipidMask\n",
      "OK: Vol7 -> Vol7_B0corrected_wo_LipidMask\n",
      "OK: Vol8 -> Vol8_B0corrected_wo_LipidMask\n",
      "OK: Vol9 -> Vol9_B0corrected_wo_LipidMask\n"
     ]
    }
   ],
   "source": [
    "import numpy as np\n",
    "from pathlib import Path\n",
    "import shutil\n",
    "\n",
    "SUFFIX = \"_B0corrected_wo_LipidMask\"\n",
    "\n",
    "def expand_mask_to_data(mask: np.ndarray, data_shape: tuple) -> np.ndarray:\n",
    "    \"\"\"Expandiert 3D-Masken auf 4D-Daten-Shape (broadcastbar).\"\"\"\n",
    "    mask = np.asarray(mask, dtype=bool)\n",
    "    if mask.ndim > len(data_shape):\n",
    "        raise ValueError(f\"Maske hat zu viele Dimensionen ({mask.ndim}) für Daten-Shape {data_shape}\")\n",
    "    if tuple(mask.shape) != tuple(data_shape[:mask.ndim]):\n",
    "        raise ValueError(f\"Masken-Shape {mask.shape} passt nicht zu den ersten Dimensionen der Daten {data_shape}\")\n",
    "    new_shape = mask.shape + (1,) * (len(data_shape) - mask.ndim)\n",
    "    return mask.reshape(new_shape)\n",
    "\n",
    "def combine_data(src_dir: Path, dst_dir: Path):\n",
    "    src_masks = src_dir / \"masks\"\n",
    "    src_data_dir = src_dir / \"OriginalData\"\n",
    "    dst_masks = dst_dir / \"masks\"\n",
    "    dst_data_dir = dst_dir / \"OriginalData\"\n",
    "\n",
    "    # Zielstruktur anlegen\n",
    "    dst_dir.mkdir(parents=True, exist_ok=True)\n",
    "    dst_masks.mkdir(parents=True, exist_ok=True)\n",
    "    dst_data_dir.mkdir(parents=True, exist_ok=True)\n",
    "\n",
    "    # Maskenpfade\n",
    "    brain_mask_path = src_masks / \"brain_mask.npy\"\n",
    "    lipid_mask_path = src_masks / \"lipid_mask.npy\"\n",
    "\n",
    "    # Datenpfade\n",
    "    data_path = src_data_dir / \"data.npy\"\n",
    "    b0_path = src_data_dir / \"data_B0corrected.npy\"\n",
    "\n",
    "    # Laden\n",
    "    data = np.load(data_path, allow_pickle=False)\n",
    "    data_b0 = np.load(b0_path, allow_pickle=False)\n",
    "    brain_mask = np.load(brain_mask_path, allow_pickle=False)\n",
    "    lipid_mask = np.load(lipid_mask_path, allow_pickle=False)\n",
    "\n",
    "    # Masken anpassen\n",
    "    brain_mask_b = expand_mask_to_data(brain_mask, data.shape)\n",
    "    lipid_mask_b = expand_mask_to_data(lipid_mask, data.shape)\n",
    "\n",
    "    # Kombination\n",
    "    combined = data_b0 * brain_mask_b + data * lipid_mask_b\n",
    "\n",
    "    # Speichern\n",
    "    np.save(dst_data_dir / \"data.npy\", combined)\n",
    "\n",
    "    # Masken kopieren\n",
    "    shutil.copy2(brain_mask_path, dst_masks / \"brain_mask.npy\")\n",
    "    shutil.copy2(lipid_mask_path, dst_masks / \"lipid_mask.npy\")\n",
    "\n",
    "# ==== HIER DEINE ORDNERLISTE FESTLEGEN ====\n",
    "ordner_liste = [\n",
    "    Path(\"Vol1_London\"),\n",
    "    Path(\"Vol2_London\"),\n",
    "    Path(\"Vol3_London\"),\n",
    "    Path(\"Vol4_London\"),\n",
    "    Path(\"Vol5_London\"),\n",
    "    Path(\"Vol5\"),\n",
    "    Path(\"Vol6\"),\n",
    "    Path(\"Vol7\"),\n",
    "    Path(\"Vol8\"),\n",
    "    Path(\"Vol9\")\n",
    "]\n",
    "\n",
    "# Schleife ausführen\n",
    "for src in ordner_liste:\n",
    "    dst = src.parent / f\"{src.name}{SUFFIX}\"\n",
    "    try:\n",
    "        combine_data(src, dst)\n",
    "        print(f\"OK: {src} -> {dst}\")\n",
    "    except Exception as e:\n",
    "        print(f\"FEHLER bei {src}: {e}\")\n"
   ]
  }
 ],
 "metadata": {
  "kernelspec": {
   "display_name": "Python 3",
   "language": "python",
   "name": "python3"
  },
  "language_info": {
   "codemirror_mode": {
    "name": "ipython",
    "version": 3
   },
   "file_extension": ".py",
   "mimetype": "text/x-python",
   "name": "python",
   "nbconvert_exporter": "python",
   "pygments_lexer": "ipython3",
   "version": "3.11.13"
  }
 },
 "nbformat": 4,
 "nbformat_minor": 5
}
