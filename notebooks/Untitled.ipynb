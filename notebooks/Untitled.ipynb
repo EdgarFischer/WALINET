{
 "cells": [
  {
   "cell_type": "code",
   "execution_count": 8,
   "id": "f21ac8e1",
   "metadata": {},
   "outputs": [],
   "source": [
    "#! pip install h5py nibabel pandas glob2 regex\n",
    "\n",
    "import numpy as np\n",
    "import matplotlib.pyplot as plt\n",
    "import h5py\n",
    "import nibabel as nib\n",
    "import scipy.io\n",
    "import time\n",
    "import pandas as pd\n",
    "import glob\n",
    "import re\n",
    "import os\n",
    "import sys\n"
   ]
  },
  {
   "cell_type": "code",
   "execution_count": 9,
   "id": "01b9a36a",
   "metadata": {},
   "outputs": [
    {
     "name": "stdout",
     "output_type": "stream",
     "text": [
      "3DMRSIMAP_Vol_10_A_1_2024-09-04_L2_0p0005\n",
      "3DMRSIMAP_Vol_06_A_1_2024-08-22_L2_0p0005\n",
      "3DMRSIMAP_Vol_09_A_1_2024-09-03_L2_0p0005\n",
      "3DMRSIMAP_Vol_04_A_1_2024-09-06_L2_0p0005\n",
      "3DMRSIMAP_Vol_16_A_1_2024-09-05_L2_0p0005\n",
      "3DMRSIMAP_Vol_05_A_1_2024-09-02_L2_0p0005\n",
      "3DMRSIMAP_Vol_08_A_1_2024-09-07_L2_0p0005\n"
     ]
    }
   ],
   "source": [
    "#! ls /workspace/walinet/PaulTrainData/\n",
    "p = '/workspace/walinet/PaulTrainData/'\n",
    "for f in os.listdir(p):\n",
    "    print(f)\n",
    "    fh = h5py.File(p+f+'/TESTING_beforeLipid.mat','r')\n",
    "    csi_crrrt = np.array(fh['csi'][:])\n",
    "    csi_crrrt = csi_crrrt['real']+1j*csi_crrrt['imag']\n",
    "    csi_crrrt = np.transpose(csi_crrrt, axes=(4,3,2,1,0))\n",
    "    \n",
    "    fh_wat = scipy.io.loadmat(p+f+'/WaterReference.mat')\n",
    "    weights = fh_wat['weights']\n",
    "    \n",
    "    csi_rrrt = np.sum(csi_crrrt * weights[:,:,:,:,None], axis=0)\n",
    "    \n",
    "    fh_cc = h5py.File(p+f+'/CoilCombined.h5', 'w')\n",
    "    fh_cc.create_dataset('csi_cc_rrrt', data=csi_rrrt)\n",
    "    fh_cc.close()"
   ]
  },
  {
   "cell_type": "code",
   "execution_count": null,
   "id": "334471a8",
   "metadata": {},
   "outputs": [],
   "source": [
    "# path\n",
    "p = '/workspace/walinet/PaulTrainData/3DMRSIMAP_Vol_05_A_1_2024-09-02_L2_0p0005/TESTING_beforeLipid.mat'\n",
    "p_wat = '/workspace/walinet/PaulTrainData/3DMRSIMAP_Vol_05_A_1_2024-09-02_L2_0p0005/WaterReference.mat'\n",
    "#p_train = '/workspace/walinet/PaulTrainData/3DMRSIMAP_Vol_06_A_1_2024-08-22_L2_0p0005/TrainData/TrainData_v3.h5'\n"
   ]
  },
  {
   "cell_type": "code",
   "execution_count": null,
   "id": "ef1ecec7",
   "metadata": {},
   "outputs": [],
   "source": [
    "fh = h5py.File(p,'r')\n",
    "csi_crrrt = np.array(fh['csi'][:])\n",
    "csi_crrrt = csi_crrrt['real']+1j*csi_crrrt['imag']\n",
    "csi_crrrt = np.transpose(csi_crrrt, axes=(4,3,2,1,0)) # (32, 64, 64, 39, 960) (coils, xdim, ydim, slices, time)\n",
    "\n",
    "mask = np.array(fh['mask'])\n",
    "mask = np.transpose(mask, axes=(2,1,0))\n",
    "\n",
    "\n",
    "fh_wat = scipy.io.loadmat(p_wat)\n",
    "weights = fh_wat['weights']  # (32, 64, 64, 39) (coils, xdim, ydim, slices)"
   ]
  },
  {
   "cell_type": "code",
   "execution_count": null,
   "id": "2ef173cb",
   "metadata": {},
   "outputs": [],
   "source": [
    "csi_rrrt = np.sum(csi_crrrt * weights[:,:,:,:,None], axis=0)"
   ]
  }
 ],
 "metadata": {
  "kernelspec": {
   "display_name": "Python 3 (ipykernel)",
   "language": "python",
   "name": "python3"
  },
  "language_info": {
   "codemirror_mode": {
    "name": "ipython",
    "version": 3
   },
   "file_extension": ".py",
   "mimetype": "text/x-python",
   "name": "python",
   "nbconvert_exporter": "python",
   "pygments_lexer": "ipython3",
   "version": "3.7.10"
  }
 },
 "nbformat": 4,
 "nbformat_minor": 5
}
